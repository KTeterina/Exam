{
 "cells": [
  {
   "cell_type": "markdown",
   "id": "2a75f5bc-0624-4c63-9c16-09ff66895f8b",
   "metadata": {},
   "source": [
    "# Exam\n",
    "## Teterina Ekaterina"
   ]
  },
  {
   "cell_type": "markdown",
   "id": "4b3b04a4-cc52-42f0-b022-3d243be256c3",
   "metadata": {},
   "source": [
    "2. Python, 25 points max\n",
    "Write a Python function which checks if an integer is some power of another integer.\n",
    "Please don’t use any standard module/library/\n",
    "For example:\n",
    " is_power(16,2)           returns true, because 16 is the 4th power of 2\n",
    " is_power(12,2)           returns false\n",
    " is_power(100000,10) returns true, because 100000 is 105.\n",
    " is_power(990,9)         returns false\n",
    "\n",
    "What’s the time complexity for this function?\n",
    "\n",
    "Go to GitHub, to my public repo https://github.com/AleksBulatov/MyProject/\n",
    "Find there the task2.py file, take it to your local environment\n",
    "Remove its content and fill it with your python code.\n",
    "Send me a pull request, so I’ll be able to make a revision of your code.\n"
   ]
  },
  {
   "cell_type": "code",
   "execution_count": 41,
   "id": "a94934ae-936b-4681-99ee-cffd89b75286",
   "metadata": {
    "tags": []
   },
   "outputs": [],
   "source": [
    "def if_power(x, a):\n",
    "    if x == 1:\n",
    "        return True\n",
    "    if x == 0:\n",
    "        return a == 0\n",
    "    if a == 1:\n",
    "        return x == 1\n",
    "    \n",
    "    while x >= a:\n",
    "        if x % a != 0:\n",
    "            return False\n",
    "        x //= a\n",
    "    return x == 1"
   ]
  },
  {
   "cell_type": "code",
   "execution_count": 44,
   "id": "af4f3738-ab84-4fed-80be-c88d0a791a1b",
   "metadata": {
    "tags": []
   },
   "outputs": [
    {
     "name": "stdout",
     "output_type": "stream",
     "text": [
      "True\n",
      "False\n",
      "True\n",
      "False\n"
     ]
    }
   ],
   "source": [
    "print(if_power(16, 2))\n",
    "print(if_power(12, 2))\n",
    "print(if_power(100000,10))\n",
    "print(if_power(990,9))"
   ]
  },
  {
   "cell_type": "markdown",
   "id": "20e3c0bd-b96b-498d-9ae0-879555cd5fc2",
   "metadata": {},
   "source": [
    "3. Data Analysis, 25 points max\n",
    "Create the following DataFrame:\n",
    "•\tstudent name\n",
    "•\tattendance of the DevEssentials course (in %)\n",
    "•\tmark (in [0..100] points)\n",
    "Not too long, 5 lines are enough, to save time.\n",
    "Draw a plot which shows a correlation (if any) between attendance and mark based on the given dataset.\n"
   ]
  },
  {
   "cell_type": "code",
   "execution_count": 1,
   "id": "7a52ef43-a0f2-488e-beb4-fdc8df8e6ce7",
   "metadata": {},
   "outputs": [
    {
     "data": {
      "image/png": "[encoded data removed]",
      "text/plain": [
       "<Figure size 640x480 with 1 Axes>"
      ]
     },
     "metadata": {},
     "output_type": "display_data"
    }
   ],
   "source": [
    "import pandas as pd\n",
    "import matplotlib.pyplot as plt\n",
    "\n",
    "data = {\n",
    "  'name': ['Anna', 'Max', 'Kate', 'Dan', 'Vanya'],\n",
    "  'attendance': [100, 95, 74, 59, 97],\n",
    "  'mark': [100, 87, 87, 56, 85]\n",
    "}\n",
    "\n",
    "df = pd.DataFrame(data)\n",
    "\n",
    "plt.scatter(df['attendance'], df['mark'])\n",
    "plt.xlabel('Attendance (%)')\n",
    "plt.ylabel('Mark (points)')\n",
    "plt.title('Correlation Between Attendance and Mark')\n",
    "plt.show()"
   ]
  },
  {
   "cell_type": "markdown",
   "id": "f148f083-c701-4a6f-acba-8532c7cc39fe",
   "metadata": {},
   "source": [
    "4. SQL, 25 points max\n",
    "\n",
    "Department name, Manager Name and Number of employees working in each department. \n",
    "Order the output by Department name"
   ]
  },
  {
   "cell_type": "code",
   "execution_count": 1,
   "id": "59ee0a21-ea02-443f-bf87-8d2faadb60e3",
   "metadata": {
    "collapsed": true,
    "jupyter": {
     "outputs_hidden": true
    },
    "tags": []
   },
   "outputs": [
    {
     "name": "stdout",
     "output_type": "stream",
     "text": [
      "Requirement already satisfied: ipython-sql in /opt/conda/lib/python3.10/site-packages (0.5.0)\n",
      "Requirement already satisfied: sqlparse in /opt/conda/lib/python3.10/site-packages (from ipython-sql) (0.4.4)\n",
      "Requirement already satisfied: six in /opt/conda/lib/python3.10/site-packages (from ipython-sql) (1.16.0)\n",
      "Requirement already satisfied: sqlalchemy>=2.0 in /opt/conda/lib/python3.10/site-packages (from ipython-sql) (2.0.7)\n",
      "Requirement already satisfied: ipython in /opt/conda/lib/python3.10/site-packages (from ipython-sql) (8.11.0)\n",
      "Requirement already satisfied: ipython-genutils in /opt/conda/lib/python3.10/site-packages (from ipython-sql) (0.2.0)\n",
      "Requirement already satisfied: prettytable in /opt/conda/lib/python3.10/site-packages (from ipython-sql) (3.7.0)\n",
      "Requirement already satisfied: typing-extensions>=4.2.0 in /opt/conda/lib/python3.10/site-packages (from sqlalchemy>=2.0->ipython-sql) (4.5.0)\n",
      "Requirement already satisfied: greenlet!=0.4.17 in /opt/conda/lib/python3.10/site-packages (from sqlalchemy>=2.0->ipython-sql) (2.0.2)\n",
      "Requirement already satisfied: matplotlib-inline in /opt/conda/lib/python3.10/site-packages (from ipython->ipython-sql) (0.1.6)\n",
      "Requirement already satisfied: jedi>=0.16 in /opt/conda/lib/python3.10/site-packages (from ipython->ipython-sql) (0.18.2)\n",
      "Requirement already satisfied: pexpect>4.3 in /opt/conda/lib/python3.10/site-packages (from ipython->ipython-sql) (4.8.0)\n",
      "Requirement already satisfied: decorator in /opt/conda/lib/python3.10/site-packages (from ipython->ipython-sql) (5.1.1)\n",
      "Requirement already satisfied: pygments>=2.4.0 in /opt/conda/lib/python3.10/site-packages (from ipython->ipython-sql) (2.14.0)\n",
      "Requirement already satisfied: stack-data in /opt/conda/lib/python3.10/site-packages (from ipython->ipython-sql) (0.6.2)\n",
      "Requirement already satisfied: traitlets>=5 in /opt/conda/lib/python3.10/site-packages (from ipython->ipython-sql) (5.9.0)\n",
      "Requirement already satisfied: prompt-toolkit!=3.0.37,<3.1.0,>=3.0.30 in /opt/conda/lib/python3.10/site-packages (from ipython->ipython-sql) (3.0.38)\n",
      "Requirement already satisfied: pickleshare in /opt/conda/lib/python3.10/site-packages (from ipython->ipython-sql) (0.7.5)\n",
      "Requirement already satisfied: backcall in /opt/conda/lib/python3.10/site-packages (from ipython->ipython-sql) (0.2.0)\n",
      "Requirement already satisfied: wcwidth in /opt/conda/lib/python3.10/site-packages (from prettytable->ipython-sql) (0.2.6)\n",
      "Requirement already satisfied: parso<0.9.0,>=0.8.0 in /opt/conda/lib/python3.10/site-packages (from jedi>=0.16->ipython->ipython-sql) (0.8.3)\n",
      "Requirement already satisfied: ptyprocess>=0.5 in /opt/conda/lib/python3.10/site-packages (from pexpect>4.3->ipython->ipython-sql) (0.7.0)\n",
      "Requirement already satisfied: pure-eval in /opt/conda/lib/python3.10/site-packages (from stack-data->ipython->ipython-sql) (0.2.2)\n",
      "Requirement already satisfied: executing>=1.2.0 in /opt/conda/lib/python3.10/site-packages (from stack-data->ipython->ipython-sql) (1.2.0)\n",
      "Requirement already satisfied: asttokens>=2.1.0 in /opt/conda/lib/python3.10/site-packages (from stack-data->ipython->ipython-sql) (2.2.1)\n",
      "\u001b[33mWARNING: There was an error checking the latest version of pip.\u001b[0m\u001b[33m\n",
      "\u001b[0mPOSTGRESQL_USER=reader\n",
      "POSTGRESQL_PASSWORD=Miba2021\n"
     ]
    }
   ],
   "source": [
    "!pip install ipython-sql\n",
    "\n",
    "%load_ext sql\n",
    "\n",
    "!env | grep POST\n",
    "\n",
    "import psycopg2\n",
    "\n",
    "with psycopg2.connect(\n",
    "    dbname='jovyan'\n",
    ") as conn:\n",
    "    with conn.cursor() as cur:\n",
    "        cur.execute('SELECT datname FROM pg_database')\n",
    "        records = cur.fetchall()"
   ]
  },
  {
   "cell_type": "code",
   "execution_count": 6,
   "id": "3a18fc37-878e-49ac-a31c-a2704e8b2540",
   "metadata": {
    "tags": []
   },
   "outputs": [
    {
     "name": "stdout",
     "output_type": "stream",
     "text": [
      "2 rows affected.\n"
     ]
    },
    {
     "data": {
      "text/html": [
       "<table>\n",
       "    <thead>\n",
       "        <tr>\n",
       "            <th>table</th>\n",
       "        </tr>\n",
       "    </thead>\n",
       "    <tbody>\n",
       "        <tr>\n",
       "            <td>employees</td>\n",
       "        </tr>\n",
       "        <tr>\n",
       "            <td>departments</td>\n",
       "        </tr>\n",
       "    </tbody>\n",
       "</table>"
      ],
      "text/plain": [
       "[('employees',), ('departments',)]"
      ]
     },
     "execution_count": 6,
     "metadata": {},
     "output_type": "execute_result"
    }
   ],
   "source": [
    "%%sql postgresql:///jovyan\n",
    "SELECT tablename AS table FROM pg_tables WHERE tablename !~ '^(pg_|sql_)'"
   ]
  },
  {
   "cell_type": "code",
   "execution_count": 7,
   "id": "744eb0aa-179e-4e53-93ba-57db22742aae",
   "metadata": {
    "tags": []
   },
   "outputs": [
    {
     "name": "stdout",
     "output_type": "stream",
     "text": [
      "12 rows affected.\n"
     ]
    },
    {
     "data": {
      "text/html": [
       "<table>\n",
       "    <thead>\n",
       "        <tr>\n",
       "            <th>employee_id</th>\n",
       "            <th>first_name</th>\n",
       "            <th>last_name</th>\n",
       "            <th>hire_date</th>\n",
       "            <th>job_id</th>\n",
       "            <th>manager_id</th>\n",
       "            <th>department_id</th>\n",
       "        </tr>\n",
       "    </thead>\n",
       "    <tbody>\n",
       "        <tr>\n",
       "            <td>100</td>\n",
       "            <td>Steven</td>\n",
       "            <td>King</td>\n",
       "            <td>1987-06-17</td>\n",
       "            <td>AD_PRES</td>\n",
       "            <td>0</td>\n",
       "            <td>90</td>\n",
       "        </tr>\n",
       "        <tr>\n",
       "            <td>101</td>\n",
       "            <td>Neena</td>\n",
       "            <td>Kochhar</td>\n",
       "            <td>1987-06-18</td>\n",
       "            <td>AD_VP</td>\n",
       "            <td>100</td>\n",
       "            <td>90</td>\n",
       "        </tr>\n",
       "        <tr>\n",
       "            <td>102</td>\n",
       "            <td>Lex</td>\n",
       "            <td>DeHaan</td>\n",
       "            <td>1987-06-19</td>\n",
       "            <td>AD_VP</td>\n",
       "            <td>100</td>\n",
       "            <td>90</td>\n",
       "        </tr>\n",
       "        <tr>\n",
       "            <td>103</td>\n",
       "            <td>Alexander</td>\n",
       "            <td>Hunold</td>\n",
       "            <td>1987-06-20</td>\n",
       "            <td>IT_PROG</td>\n",
       "            <td>102</td>\n",
       "            <td>60</td>\n",
       "        </tr>\n",
       "        <tr>\n",
       "            <td>107</td>\n",
       "            <td>Diana</td>\n",
       "            <td>Lorents</td>\n",
       "            <td>1987-06-24</td>\n",
       "            <td>IT_ProG</td>\n",
       "            <td>103</td>\n",
       "            <td>60</td>\n",
       "        </tr>\n",
       "        <tr>\n",
       "            <td>108</td>\n",
       "            <td>Nancy</td>\n",
       "            <td>Greenberg</td>\n",
       "            <td>1987-06-25</td>\n",
       "            <td>FI_MGR</td>\n",
       "            <td>101</td>\n",
       "            <td>100</td>\n",
       "        </tr>\n",
       "        <tr>\n",
       "            <td>109</td>\n",
       "            <td>Daniel</td>\n",
       "            <td>Faviet</td>\n",
       "            <td>1987-06-26</td>\n",
       "            <td>FI_ACCOUNT</td>\n",
       "            <td>108</td>\n",
       "            <td>100</td>\n",
       "        </tr>\n",
       "        <tr>\n",
       "            <td>114</td>\n",
       "            <td>Den</td>\n",
       "            <td>Raphaely</td>\n",
       "            <td>1987-07-01</td>\n",
       "            <td>PU_MAN</td>\n",
       "            <td>100</td>\n",
       "            <td>30</td>\n",
       "        </tr>\n",
       "        <tr>\n",
       "            <td>118</td>\n",
       "            <td>Guy</td>\n",
       "            <td>Himuro</td>\n",
       "            <td>1987-07-05</td>\n",
       "            <td>PU_CLERK</td>\n",
       "            <td>114</td>\n",
       "            <td>30</td>\n",
       "        </tr>\n",
       "        <tr>\n",
       "            <td>144</td>\n",
       "            <td>Peter</td>\n",
       "            <td>Vargas</td>\n",
       "            <td>1987-07-31</td>\n",
       "            <td>ST_CLERK</td>\n",
       "            <td>114</td>\n",
       "            <td>50</td>\n",
       "        </tr>\n",
       "        <tr>\n",
       "            <td>145</td>\n",
       "            <td>John</td>\n",
       "            <td>Russell</td>\n",
       "            <td>1987-08-01</td>\n",
       "            <td>SA_MAN</td>\n",
       "            <td>100</td>\n",
       "            <td>80</td>\n",
       "        </tr>\n",
       "        <tr>\n",
       "            <td>146</td>\n",
       "            <td>Karen</td>\n",
       "            <td>Partners</td>\n",
       "            <td>1987-08-02</td>\n",
       "            <td>SA_MAN</td>\n",
       "            <td>100</td>\n",
       "            <td>80</td>\n",
       "        </tr>\n",
       "    </tbody>\n",
       "</table>"
      ],
      "text/plain": [
       "[('100', 'Steven', 'King', datetime.date(1987, 6, 17), 'AD_PRES', '0', '90'),\n",
       " ('101', 'Neena', 'Kochhar', datetime.date(1987, 6, 18), 'AD_VP', '100', '90'),\n",
       " ('102', 'Lex', 'DeHaan', datetime.date(1987, 6, 19), 'AD_VP', '100', '90'),\n",
       " ('103', 'Alexander', 'Hunold', datetime.date(1987, 6, 20), 'IT_PROG', '102', '60'),\n",
       " ('107', 'Diana', 'Lorents', datetime.date(1987, 6, 24), 'IT_ProG', '103', '60'),\n",
       " ('108', 'Nancy', 'Greenberg', datetime.date(1987, 6, 25), 'FI_MGR', '101', '100'),\n",
       " ('109', 'Daniel', 'Faviet', datetime.date(1987, 6, 26), 'FI_ACCOUNT', '108', '100'),\n",
       " ('114', 'Den', 'Raphaely', datetime.date(1987, 7, 1), 'PU_MAN', '100', '30'),\n",
       " ('118', 'Guy', 'Himuro', datetime.date(1987, 7, 5), 'PU_CLERK', '114', '30'),\n",
       " ('144', 'Peter', 'Vargas', datetime.date(1987, 7, 31), 'ST_CLERK', '114', '50'),\n",
       " ('145', 'John', 'Russell', datetime.date(1987, 8, 1), 'SA_MAN', '100', '80'),\n",
       " ('146', 'Karen', 'Partners', datetime.date(1987, 8, 2), 'SA_MAN', '100', '80')]"
      ]
     },
     "execution_count": 7,
     "metadata": {},
     "output_type": "execute_result"
    }
   ],
   "source": [
    "%%sql postgresql:///jovyan\n",
    "SELECT *\n",
    "FROM employees"
   ]
  },
  {
   "cell_type": "code",
   "execution_count": 8,
   "id": "8bd90b61-29c1-4105-aa01-07439464e34f",
   "metadata": {
    "tags": []
   },
   "outputs": [
    {
     "name": "stdout",
     "output_type": "stream",
     "text": [
      "10 rows affected.\n"
     ]
    },
    {
     "data": {
      "text/html": [
       "<table>\n",
       "    <thead>\n",
       "        <tr>\n",
       "            <th>department_id</th>\n",
       "            <th>department_name</th>\n",
       "            <th>manager_id</th>\n",
       "        </tr>\n",
       "    </thead>\n",
       "    <tbody>\n",
       "        <tr>\n",
       "            <td>10</td>\n",
       "            <td>Administration</td>\n",
       "            <td>200</td>\n",
       "        </tr>\n",
       "        <tr>\n",
       "            <td>30</td>\n",
       "            <td>Purchasing</td>\n",
       "            <td>114</td>\n",
       "        </tr>\n",
       "        <tr>\n",
       "            <td>40</td>\n",
       "            <td>HumanResources</td>\n",
       "            <td>203</td>\n",
       "        </tr>\n",
       "        <tr>\n",
       "            <td>50</td>\n",
       "            <td>Shipping</td>\n",
       "            <td>121</td>\n",
       "        </tr>\n",
       "        <tr>\n",
       "            <td>60</td>\n",
       "            <td>IT</td>\n",
       "            <td>103</td>\n",
       "        </tr>\n",
       "        <tr>\n",
       "            <td>70</td>\n",
       "            <td>PublicRelations</td>\n",
       "            <td>204</td>\n",
       "        </tr>\n",
       "        <tr>\n",
       "            <td>80</td>\n",
       "            <td>Sales</td>\n",
       "            <td>145</td>\n",
       "        </tr>\n",
       "        <tr>\n",
       "            <td>90</td>\n",
       "            <td>Executive</td>\n",
       "            <td>100</td>\n",
       "        </tr>\n",
       "        <tr>\n",
       "            <td>100</td>\n",
       "            <td>Finance</td>\n",
       "            <td>108</td>\n",
       "        </tr>\n",
       "        <tr>\n",
       "            <td>110</td>\n",
       "            <td>Accounting</td>\n",
       "            <td>205</td>\n",
       "        </tr>\n",
       "    </tbody>\n",
       "</table>"
      ],
      "text/plain": [
       "[('10', 'Administration', '200'),\n",
       " ('30', 'Purchasing', '114'),\n",
       " ('40', 'HumanResources', '203'),\n",
       " ('50', 'Shipping', '121'),\n",
       " ('60', 'IT', '103'),\n",
       " ('70', 'PublicRelations', '204'),\n",
       " ('80', 'Sales', '145'),\n",
       " ('90', 'Executive', '100'),\n",
       " ('100', 'Finance', '108'),\n",
       " ('110', 'Accounting', '205')]"
      ]
     },
     "execution_count": 8,
     "metadata": {},
     "output_type": "execute_result"
    }
   ],
   "source": [
    "%%sql postgresql:///jovyan\n",
    "SELECT *\n",
    "FROM departments"
   ]
  },
  {
   "cell_type": "code",
   "execution_count": 13,
   "id": "c83e1289-f1b2-48f1-b745-aed433df6d25",
   "metadata": {
    "tags": []
   },
   "outputs": [
    {
     "name": "stdout",
     "output_type": "stream",
     "text": [
      "12 rows affected.\n"
     ]
    },
    {
     "data": {
      "text/html": [
       "<table>\n",
       "    <thead>\n",
       "        <tr>\n",
       "            <th>number_of_employees</th>\n",
       "            <th>department_name</th>\n",
       "            <th>first_name</th>\n",
       "            <th>last_name</th>\n",
       "        </tr>\n",
       "    </thead>\n",
       "    <tbody>\n",
       "        <tr>\n",
       "            <td>1</td>\n",
       "            <td>Executive</td>\n",
       "            <td>Steven</td>\n",
       "            <td>King</td>\n",
       "        </tr>\n",
       "        <tr>\n",
       "            <td>1</td>\n",
       "            <td>Executive</td>\n",
       "            <td>Lex</td>\n",
       "            <td>DeHaan</td>\n",
       "        </tr>\n",
       "        <tr>\n",
       "            <td>1</td>\n",
       "            <td>Executive</td>\n",
       "            <td>Neena</td>\n",
       "            <td>Kochhar</td>\n",
       "        </tr>\n",
       "        <tr>\n",
       "            <td>1</td>\n",
       "            <td>Finance</td>\n",
       "            <td>Nancy</td>\n",
       "            <td>Greenberg</td>\n",
       "        </tr>\n",
       "        <tr>\n",
       "            <td>1</td>\n",
       "            <td>Finance</td>\n",
       "            <td>Daniel</td>\n",
       "            <td>Faviet</td>\n",
       "        </tr>\n",
       "        <tr>\n",
       "            <td>1</td>\n",
       "            <td>IT</td>\n",
       "            <td>Alexander</td>\n",
       "            <td>Hunold</td>\n",
       "        </tr>\n",
       "        <tr>\n",
       "            <td>1</td>\n",
       "            <td>IT</td>\n",
       "            <td>Diana</td>\n",
       "            <td>Lorents</td>\n",
       "        </tr>\n",
       "        <tr>\n",
       "            <td>1</td>\n",
       "            <td>Purchasing</td>\n",
       "            <td>Den</td>\n",
       "            <td>Raphaely</td>\n",
       "        </tr>\n",
       "        <tr>\n",
       "            <td>1</td>\n",
       "            <td>Purchasing</td>\n",
       "            <td>Guy</td>\n",
       "            <td>Himuro</td>\n",
       "        </tr>\n",
       "        <tr>\n",
       "            <td>1</td>\n",
       "            <td>Sales</td>\n",
       "            <td>John</td>\n",
       "            <td>Russell</td>\n",
       "        </tr>\n",
       "        <tr>\n",
       "            <td>1</td>\n",
       "            <td>Sales</td>\n",
       "            <td>Karen</td>\n",
       "            <td>Partners</td>\n",
       "        </tr>\n",
       "        <tr>\n",
       "            <td>1</td>\n",
       "            <td>Shipping</td>\n",
       "            <td>Peter</td>\n",
       "            <td>Vargas</td>\n",
       "        </tr>\n",
       "    </tbody>\n",
       "</table>"
      ],
      "text/plain": [
       "[(1, 'Executive', 'Steven', 'King'),\n",
       " (1, 'Executive', 'Lex', 'DeHaan'),\n",
       " (1, 'Executive', 'Neena', 'Kochhar'),\n",
       " (1, 'Finance', 'Nancy', 'Greenberg'),\n",
       " (1, 'Finance', 'Daniel', 'Faviet'),\n",
       " (1, 'IT', 'Alexander', 'Hunold'),\n",
       " (1, 'IT', 'Diana', 'Lorents'),\n",
       " (1, 'Purchasing', 'Den', 'Raphaely'),\n",
       " (1, 'Purchasing', 'Guy', 'Himuro'),\n",
       " (1, 'Sales', 'John', 'Russell'),\n",
       " (1, 'Sales', 'Karen', 'Partners'),\n",
       " (1, 'Shipping', 'Peter', 'Vargas')]"
      ]
     },
     "execution_count": 13,
     "metadata": {},
     "output_type": "execute_result"
    }
   ],
   "source": [
    "%%sql postgresql:///jovyan\n",
    "Select Count(employee_id) As number_of_employees, department_name, first_name, last_name\n",
    "From employees\n",
    "Join departments Using (department_id)\n",
    "Group by employees.department_id, employees.manager_id, department_name, first_name, last_name\n",
    "Order by department_name"
   ]
  },
  {
   "cell_type": "code",
   "execution_count": 17,
   "id": "79db14c9-d9b0-4cb9-8158-3d5150a1cf8a",
   "metadata": {
    "tags": []
   },
   "outputs": [
    {
     "name": "stdout",
     "output_type": "stream",
     "text": [
      "(psycopg2.errors.AmbiguousColumn) common column name \"manager_id\" appears more than once in left table\n",
      "\n",
      "[SQL: Select Count(Distinct employee_id) As number_of_employees, department_name, first_name, last_name\n",
      "From departments\n",
      "Join employees e Using (department_id)\n",
      "Join employees e2 Using (manager_id)\n",
      "Group by e.department_id, e2.manager_id, department_name, first_name, last_name\n",
      "Order by department_name]\n",
      "(Background on this error at: https://sqlalche.me/e/20/f405)\n"
     ]
    }
   ],
   "source": [
    "%%sql postgresql:///jovyan\n",
    "Select Count(Distinct employee_id) As number_of_employees, department_name, first_name, last_name\n",
    "From departments\n",
    "Join employees e Using (department_id)\n",
    "Join employees e2 (manager_id)\n",
    "Group by e.department_id, e2.manager_id, department_name, first_name, last_name\n",
    "Order by department_name"
   ]
  }
 ],
 "metadata": {
  "kernelspec": {
   "display_name": "Python 3 (ipykernel)",
   "language": "python",
   "name": "python3"
  },
  "language_info": {
   "codemirror_mode": {
    "name": "ipython",
    "version": 3
   },
   "file_extension": ".py",
   "mimetype": "text/x-python",
   "name": "python",
   "nbconvert_exporter": "python",
   "pygments_lexer": "ipython3",
   "version": "3.10.9"
  }
 },
 "nbformat": 4,
 "nbformat_minor": 5
}
